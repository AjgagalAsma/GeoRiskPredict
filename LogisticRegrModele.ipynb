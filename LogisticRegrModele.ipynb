{
 "cells": [
  {
   "cell_type": "code",
   "execution_count": 1,
   "id": "51de0e2c",
   "metadata": {},
   "outputs": [
    {
     "data": {
      "text/plain": [
       "<bound method NDFrame.head of       Vict Age Vict Sex  heure        LAT       LON  danger\n",
       "0           14        F     10  30.415448 -9.559129       0\n",
       "1           27        M     18  30.415448 -9.559129       0\n",
       "2           33        F      9  30.415448 -9.559129       0\n",
       "3           51        M     12  30.415448 -9.559129       0\n",
       "4           46        F     19  30.415448 -9.559129       0\n",
       "...        ...      ...    ...        ...       ...     ...\n",
       "1168         6        F      9  30.412805 -9.579683       0\n",
       "1169         7        F     10  30.412805 -9.579683       0\n",
       "1170         8        F     11  30.412805 -9.579683       0\n",
       "1171         9        F     12  30.412805 -9.579683       0\n",
       "1172        10        F     13  30.412805 -9.579683       0\n",
       "\n",
       "[1108 rows x 6 columns]>"
      ]
     },
     "execution_count": 1,
     "metadata": {},
     "output_type": "execute_result"
    }
   ],
   "source": [
    "import pandas as pd\n",
    "\n",
    "# Charger ton dataset\n",
    "df = pd.read_csv(\"geo_safety_data.csv\")\n",
    "\n",
    "# Supprimer les colonnes inutiles\n",
    "df.drop(columns=['jour', 'mois', 'LOCATION'], inplace=True)\n",
    "\n",
    "# Filtrer les lignes avec une heure valide\n",
    "df = df[(df['heure'] >= 0) & (df['heure'] <= 23)]\n",
    "\n",
    "df.head\n"
   ]
  },
  {
   "cell_type": "code",
   "execution_count": 2,
   "id": "aaebb624",
   "metadata": {},
   "outputs": [
    {
     "name": "stderr",
     "output_type": "stream",
     "text": [
      "C:\\Users\\info tech\\AppData\\Local\\Temp\\ipykernel_4468\\2623192090.py:6: SettingWithCopyWarning: \n",
      "A value is trying to be set on a copy of a slice from a DataFrame.\n",
      "Try using .loc[row_indexer,col_indexer] = value instead\n",
      "\n",
      "See the caveats in the documentation: https://pandas.pydata.org/pandas-docs/stable/user_guide/indexing.html#returning-a-view-versus-a-copy\n",
      "  X['Vict Sex'] = X['Vict Sex'].map({'M': 1, 'F': 0})\n"
     ]
    }
   ],
   "source": [
    "# Séparer les variables explicatives (X) et la variable cible (y)\n",
    "X = df[['Vict Age', 'Vict Sex', 'heure', 'LAT', 'LON']]\n",
    "y = df['danger']\n",
    "\n",
    "# Encoder la variable 'Vict Sex' en numérique\n",
    "X['Vict Sex'] = X['Vict Sex'].map({'M': 1, 'F': 0})\n"
   ]
  },
  {
   "cell_type": "code",
   "execution_count": 3,
   "id": "934c2d7c",
   "metadata": {},
   "outputs": [
    {
     "name": "stdout",
     "output_type": "stream",
     "text": [
      "Vict Age    0\n",
      "Vict Sex    0\n",
      "heure       0\n",
      "LAT         0\n",
      "LON         0\n",
      "danger      0\n",
      "dtype: int64\n"
     ]
    }
   ],
   "source": [
    "print(df.isnull().sum())"
   ]
  },
  {
   "cell_type": "code",
   "execution_count": 4,
   "id": "d32e482d",
   "metadata": {},
   "outputs": [
    {
     "name": "stdout",
     "output_type": "stream",
     "text": [
      "Accuracy: 0.7027027027027027\n"
     ]
    }
   ],
   "source": [
    "from sklearn.model_selection import train_test_split\n",
    "from sklearn.linear_model import LogisticRegression\n",
    "from sklearn.metrics import accuracy_score\n",
    "\n",
    "# Diviser les données en train et test\n",
    "X_train, X_test, y_train, y_test = train_test_split(X, y, test_size=0.2, random_state=42)\n",
    "\n",
    "# Initialiser le modèle\n",
    "model = LogisticRegression()\n",
    "\n",
    "# Entraîner le modèle\n",
    "model.fit(X_train, y_train)\n",
    "\n",
    "# Faire des prédictions\n",
    "y_pred = model.predict(X_test)\n",
    "\n",
    "# Évaluer le modèle\n",
    "print(\"Accuracy:\", accuracy_score(y_test, y_pred))\n"
   ]
  },
  {
   "cell_type": "markdown",
   "id": "75c3d15b",
   "metadata": {},
   "source": []
  }
 ],
 "metadata": {
  "kernelspec": {
   "display_name": "Python 3",
   "language": "python",
   "name": "python3"
  },
  "language_info": {
   "codemirror_mode": {
    "name": "ipython",
    "version": 3
   },
   "file_extension": ".py",
   "mimetype": "text/x-python",
   "name": "python",
   "nbconvert_exporter": "python",
   "pygments_lexer": "ipython3",
   "version": "3.12.6"
  }
 },
 "nbformat": 4,
 "nbformat_minor": 5
}
