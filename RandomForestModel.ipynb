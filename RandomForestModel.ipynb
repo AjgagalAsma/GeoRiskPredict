{
 "cells": [
  {
   "cell_type": "code",
   "execution_count": 19,
   "id": "d52c6544",
   "metadata": {},
   "outputs": [
    {
     "name": "stderr",
     "output_type": "stream",
     "text": [
      "C:\\Users\\info tech\\AppData\\Local\\Temp\\ipykernel_8768\\3084613574.py:17: SettingWithCopyWarning: \n",
      "A value is trying to be set on a copy of a slice from a DataFrame.\n",
      "Try using .loc[row_indexer,col_indexer] = value instead\n",
      "\n",
      "See the caveats in the documentation: https://pandas.pydata.org/pandas-docs/stable/user_guide/indexing.html#returning-a-view-versus-a-copy\n",
      "  X['Vict Sex'] = X['Vict Sex'].map({'M': 1, 'F': 0})\n"
     ]
    }
   ],
   "source": [
    "import pandas as pd\n",
    "from sklearn.model_selection import train_test_split\n",
    "\n",
    "# Charger ton dataset\n",
    "df = pd.read_csv(\"geo_safety_data.csv\")\n",
    "\n",
    "# Supprimer les colonnes inutiles\n",
    "df.drop(columns=['jour', 'mois', 'LOCATION'], inplace=True)\n",
    "\n",
    "# Filtrer les lignes avec une heure valide\n",
    "df = df[(df['heure'] >= 0) & (df['heure'] <= 23)]\n",
    "\n",
    "X = df[['Vict Age', 'Vict Sex', 'heure', 'LAT', 'LON']]\n",
    "y = df['danger']\n",
    "\n",
    "# Encoder la variable 'Vict Sex' en numérique\n",
    "X['Vict Sex'] = X['Vict Sex'].map({'M': 1, 'F': 0})\n",
    "\n",
    "X_train, X_test, y_train, y_test = train_test_split(X, y, test_size=0.2, random_state=42)\n"
   ]
  },
  {
   "cell_type": "code",
   "execution_count": 23,
   "id": "a1c7c237",
   "metadata": {},
   "outputs": [
    {
     "name": "stdout",
     "output_type": "stream",
     "text": [
      "Accuracy (Random Forest): 0.954954954954955\n"
     ]
    }
   ],
   "source": [
    "from sklearn.ensemble import RandomForestClassifier\n",
    "from sklearn.metrics import accuracy_score\n",
    "\n",
    "model_rf = RandomForestClassifier(random_state=42)\n",
    "model_rf.fit(X_train, y_train)\n",
    "y_pred_rf = model_rf.predict(X_test)\n",
    "print(\"Accuracy (Random Forest):\", accuracy_score(y_test, y_pred_rf))\n"
   ]
  },
  {
   "cell_type": "code",
   "execution_count": 24,
   "id": "3e1d4a8a",
   "metadata": {},
   "outputs": [
    {
     "name": "stdout",
     "output_type": "stream",
     "text": [
      "Matrice de confusion :\n",
      " [[ 85   6]\n",
      " [  4 127]]\n"
     ]
    }
   ],
   "source": [
    "from sklearn.metrics import confusion_matrix\n",
    "\n",
    "cm = confusion_matrix(y_test, y_pred_rf)\n",
    "print(\"Matrice de confusion :\\n\", cm)\n"
   ]
  },
  {
   "cell_type": "code",
   "execution_count": 25,
   "id": "41420dd8",
   "metadata": {},
   "outputs": [
    {
     "name": "stdout",
     "output_type": "stream",
     "text": [
      "              precision    recall  f1-score   support\n",
      "\n",
      "           0       0.96      0.93      0.94        91\n",
      "           1       0.95      0.97      0.96       131\n",
      "\n",
      "    accuracy                           0.95       222\n",
      "   macro avg       0.95      0.95      0.95       222\n",
      "weighted avg       0.95      0.95      0.95       222\n",
      "\n"
     ]
    }
   ],
   "source": [
    "from sklearn.metrics import classification_report\n",
    "\n",
    "print(classification_report(y_test, y_pred_rf))\n"
   ]
  },
  {
   "cell_type": "code",
   "execution_count": 26,
   "id": "fbc0bdec",
   "metadata": {},
   "outputs": [
    {
     "name": "stdout",
     "output_type": "stream",
     "text": [
      "Prédiction (0 = Non dangereux, 1 = Dangereux) : 0\n"
     ]
    }
   ],
   "source": [
    "import pandas as pd\n",
    "\n",
    "# Nouvelles données (25, 0(F), 23, 32.32329981047794, -9.260393664963635)\n",
    "new_data = pd.DataFrame({\n",
    "    'Vict Age': [30],\n",
    "    'Vict Sex': [1],  # 0 pour femme, 1 pour homme (en fonction de ton encodage)\n",
    "    'heure': [10],\n",
    "    'LAT': [32.32329981047794],\n",
    "    'LON': [-9.260393664963635]\n",
    "})\n",
    "\n",
    "# Prédire avec le modèle Random Forest\n",
    "prediction = model_rf.predict(new_data)\n",
    "\n",
    "# Afficher la prédiction\n",
    "print(\"Prédiction (0 = Non dangereux, 1 = Dangereux) :\", prediction[0])\n"
   ]
  },
  {
   "cell_type": "code",
   "execution_count": 46,
   "id": "558b7604",
   "metadata": {},
   "outputs": [
    {
     "name": "stdout",
     "output_type": "stream",
     "text": [
      "Prédiction (0 = Non dangereux, 1 = Dangereux) : 1\n"
     ]
    }
   ],
   "source": [
    "import pandas as pd\n",
    "\n",
    "# Nouvelles données (25, 0(F), 23, 32.32329981047794, -9.260393664963635)\n",
    "new_data = pd.DataFrame({\n",
    "    'Vict Age': [40],\n",
    "    'Vict Sex': [0],  # 0 pour femme, 1 pour homme (en fonction de ton encodage)\n",
    "    'heure': [10],\n",
    "    'LAT': [32.32341763625289],\n",
    "    'LON': [-9.262292709395014]\n",
    "})\n",
    "\n",
    "# Prédire avec le modèle Random Forest\n",
    "prediction = model_rf.predict(new_data)\n",
    "\n",
    "# Afficher la prédiction\n",
    "print(\"Prédiction (0 = Non dangereux, 1 = Dangereux) :\", prediction[0])\n"
   ]
  },
  {
   "cell_type": "code",
   "execution_count": 30,
   "id": "48cde453",
   "metadata": {},
   "outputs": [
    {
     "name": "stdout",
     "output_type": "stream",
     "text": [
      "Prédiction (0 = Non dangereux, 1 = Dangereux) : 1\n"
     ]
    }
   ],
   "source": [
    "import pandas as pd\n",
    "from sklearn.preprocessing import StandardScaler  # Si tu as utilisé un scaler pour les données\n",
    "\n",
    "# Exemple de transformation (si tu as fait une normalisation ou standardisation)\n",
    "# Appliquer la même normalisation que pour les données d'entraînement (si nécessaire)\n",
    "# Si tu as utilisé un StandardScaler par exemple :\n",
    "scaler = StandardScaler()\n",
    "# Assure-toi de faire la même transformation sur les nouvelles données qu'avec celles d'entraînement\n",
    "# scaler.fit(X_train)  # Entraîne le scaler avec les données d'entraînement si tu ne l'as pas fait avant\n",
    "# new_data_scaled = scaler.transform(new_data)  # Applique la transformation\n",
    "\n",
    "# Nouvelles données (30, 1(M), 10, 32.32329981047794, -9.260393664963635)\n",
    "new_data = pd.DataFrame({\n",
    "    'Vict Age': [25],\n",
    "    'Vict Sex': [1],  # 0 pour femme, 1 pour homme (selon ton encodage)\n",
    "    'heure': [9],\n",
    "    'LAT': [32.32414297648303],\n",
    "    'LON': [-9.26251797447225]\n",
    "})\n",
    "\n",
    "\n",
    "# Si tu utilises un scaler, tu devrais appliquer la transformation ici :\n",
    "# new_data = scaler.transform(new_data)\n",
    "\n",
    "# Prédire avec le modèle Random Forest\n",
    "prediction = model_rf.predict(new_data)\n",
    "\n",
    "# Afficher la prédiction\n",
    "print(\"Prédiction (0 = Non dangereux, 1 = Dangereux) :\", prediction[0])\n"
   ]
  }
 ],
 "metadata": {
  "kernelspec": {
   "display_name": "Python 3",
   "language": "python",
   "name": "python3"
  },
  "language_info": {
   "codemirror_mode": {
    "name": "ipython",
    "version": 3
   },
   "file_extension": ".py",
   "mimetype": "text/x-python",
   "name": "python",
   "nbconvert_exporter": "python",
   "pygments_lexer": "ipython3",
   "version": "3.12.6"
  }
 },
 "nbformat": 4,
 "nbformat_minor": 5
}
