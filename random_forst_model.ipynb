{
 "cells": [
  {
   "cell_type": "code",
   "execution_count": 8,
   "id": "51de0e2c",
   "metadata": {},
   "outputs": [
    {
     "name": "stdout",
     "output_type": "stream",
     "text": [
      "Accuracy: 0.9617021276595744\n",
      "Classification Report:\n",
      "               precision    recall  f1-score   support\n",
      "\n",
      "           0       0.96      0.95      0.95        99\n",
      "           1       0.96      0.97      0.97       136\n",
      "\n",
      "    accuracy                           0.96       235\n",
      "   macro avg       0.96      0.96      0.96       235\n",
      "weighted avg       0.96      0.96      0.96       235\n",
      "\n"
     ]
    }
   ],
   "source": [
    "import pandas as pd\n",
    "from sklearn.model_selection import train_test_split\n",
    "from sklearn.ensemble import RandomForestClassifier\n",
    "from sklearn.preprocessing import StandardScaler, LabelEncoder\n",
    "\n",
    "# Charger les données\n",
    "df = pd.read_csv('geo_safety_data.csv')\n",
    "\n",
    "# Encoder les variables catégorielles\n",
    "label_encoder = LabelEncoder()\n",
    "df['Vict Sex'] = label_encoder.fit_transform(df['Vict Sex'])  # Exemple : 'F' -> 0, 'M' -> 1\n",
    "\n",
    "# Si tu as d'autres variables catégorielles comme 'lieu', tu peux les encoder ainsi\n",
    "df = pd.get_dummies(df, columns=['LOCATION'])  # Remplace 'lieu' par la colonne appropriée\n",
    "\n",
    "# Séparer les caractéristiques (X) et la cible (y)\n",
    "X = df.drop('danger', axis=1)  # Les colonnes d'entrée\n",
    "y = df['danger']  # La colonne cible\n",
    "\n",
    "# Séparer en données d'entraînement et de test\n",
    "X_train, X_test, y_train, y_test = train_test_split(X, y, test_size=0.2, random_state=42)\n",
    "\n",
    "# Normaliser les données\n",
    "scaler = StandardScaler()\n",
    "X_train = scaler.fit_transform(X_train)\n",
    "X_test = scaler.transform(X_test)\n",
    "\n",
    "# Créer et entraîner le modèle\n",
    "model = RandomForestClassifier(n_estimators=100, random_state=42)\n",
    "model.fit(X_train, y_train)\n",
    "\n",
    "# Faire des prédictions\n",
    "y_pred = model.predict(X_test)\n",
    "\n",
    "# Évaluer le modèle\n",
    "from sklearn.metrics import accuracy_score, classification_report\n",
    "print(\"Accuracy:\", accuracy_score(y_test, y_pred))\n",
    "print(\"Classification Report:\\n\", classification_report(y_test, y_pred))\n"
   ]
  },
  {
   "cell_type": "code",
   "execution_count": 11,
   "id": "aaebb624",
   "metadata": {},
   "outputs": [],
   "source": [
    "def predict_danger(model, scaler, label_encoder, input_data):\n",
    "    # Encoder 'Vict Sex' et 'LOCATION' (si ce n'est pas déjà fait pendant l'entraînement)\n",
    "    input_data[1] = label_encoder.transform([input_data[1]])[0]  # Encodage du sexe (F/M)\n",
    "    input_data[7] = label_encoder.transform([input_data[7]])[0]  # Encodage de la location (ex: \"souk\", \"plage\", etc.)\n",
    "    \n",
    "    # Appliquer le StandardScaler aux données (si le modèle a été normalisé pendant l'entraînement)\n",
    "    input_data = scaler.transform([input_data])\n",
    "    \n",
    "    # Faire la prédiction\n",
    "    prediction = model.predict(input_data)\n",
    "    \n",
    "    return prediction[0]\n"
   ]
  },
  {
   "cell_type": "code",
   "execution_count": 13,
   "id": "934c2d7c",
   "metadata": {},
   "outputs": [
    {
     "ename": "IndexError",
     "evalue": "list index out of range",
     "output_type": "error",
     "traceback": [
      "\u001b[1;31m---------------------------------------------------------------------------\u001b[0m",
      "\u001b[1;31mIndexError\u001b[0m                                Traceback (most recent call last)",
      "Cell \u001b[1;32mIn[13], line 5\u001b[0m\n\u001b[0;32m      2\u001b[0m input_data \u001b[38;5;241m=\u001b[39m [\u001b[38;5;241m25\u001b[39m, \u001b[38;5;124m'\u001b[39m\u001b[38;5;124mF\u001b[39m\u001b[38;5;124m'\u001b[39m, \u001b[38;5;241m14\u001b[39m, \u001b[38;5;241m12\u001b[39m, \u001b[38;5;241m8\u001b[39m, \u001b[38;5;241m33.598128973340515\u001b[39m, \u001b[38;5;241m-\u001b[39m\u001b[38;5;241m7.664624676533552\u001b[39m]  \u001b[38;5;66;03m# Exemple pour Vict Age, Vict Sex, heure, jour, mois, LAT, LON, LOCATION\u001b[39;00m\n\u001b[0;32m      4\u001b[0m \u001b[38;5;66;03m# Effectuer la prédiction\u001b[39;00m\n\u001b[1;32m----> 5\u001b[0m prediction \u001b[38;5;241m=\u001b[39m \u001b[43mpredict_danger\u001b[49m\u001b[43m(\u001b[49m\u001b[43mmodel\u001b[49m\u001b[43m,\u001b[49m\u001b[43m \u001b[49m\u001b[43mscaler\u001b[49m\u001b[43m,\u001b[49m\u001b[43m \u001b[49m\u001b[43mlabel_encoder\u001b[49m\u001b[43m,\u001b[49m\u001b[43m \u001b[49m\u001b[43minput_data\u001b[49m\u001b[43m)\u001b[49m\n\u001b[0;32m      7\u001b[0m \u001b[38;5;66;03m# Afficher le résultat\u001b[39;00m\n\u001b[0;32m      8\u001b[0m \u001b[38;5;28mprint\u001b[39m(\u001b[38;5;124m\"\u001b[39m\u001b[38;5;124mLe niveau de danger est : \u001b[39m\u001b[38;5;124m\"\u001b[39m, \u001b[38;5;124m\"\u001b[39m\u001b[38;5;124mDANGEREUX\u001b[39m\u001b[38;5;124m\"\u001b[39m \u001b[38;5;28;01mif\u001b[39;00m prediction \u001b[38;5;241m==\u001b[39m \u001b[38;5;241m1\u001b[39m \u001b[38;5;28;01melse\u001b[39;00m \u001b[38;5;124m\"\u001b[39m\u001b[38;5;124mSÛR\u001b[39m\u001b[38;5;124m\"\u001b[39m)\n",
      "Cell \u001b[1;32mIn[11], line 4\u001b[0m, in \u001b[0;36mpredict_danger\u001b[1;34m(model, scaler, label_encoder, input_data)\u001b[0m\n\u001b[0;32m      1\u001b[0m \u001b[38;5;28;01mdef\u001b[39;00m\u001b[38;5;250m \u001b[39m\u001b[38;5;21mpredict_danger\u001b[39m(model, scaler, label_encoder, input_data):\n\u001b[0;32m      2\u001b[0m     \u001b[38;5;66;03m# Encoder 'Vict Sex' et 'LOCATION' (si ce n'est pas déjà fait pendant l'entraînement)\u001b[39;00m\n\u001b[0;32m      3\u001b[0m     input_data[\u001b[38;5;241m1\u001b[39m] \u001b[38;5;241m=\u001b[39m label_encoder\u001b[38;5;241m.\u001b[39mtransform([input_data[\u001b[38;5;241m1\u001b[39m]])[\u001b[38;5;241m0\u001b[39m]  \u001b[38;5;66;03m# Encodage du sexe (F/M)\u001b[39;00m\n\u001b[1;32m----> 4\u001b[0m     input_data[\u001b[38;5;241m7\u001b[39m] \u001b[38;5;241m=\u001b[39m label_encoder\u001b[38;5;241m.\u001b[39mtransform([\u001b[43minput_data\u001b[49m\u001b[43m[\u001b[49m\u001b[38;5;241;43m7\u001b[39;49m\u001b[43m]\u001b[49m])[\u001b[38;5;241m0\u001b[39m]  \u001b[38;5;66;03m# Encodage de la location (ex: \"souk\", \"plage\", etc.)\u001b[39;00m\n\u001b[0;32m      6\u001b[0m     \u001b[38;5;66;03m# Appliquer le StandardScaler aux données (si le modèle a été normalisé pendant l'entraînement)\u001b[39;00m\n\u001b[0;32m      7\u001b[0m     input_data \u001b[38;5;241m=\u001b[39m scaler\u001b[38;5;241m.\u001b[39mtransform([input_data])\n",
      "\u001b[1;31mIndexError\u001b[0m: list index out of range"
     ]
    }
   ],
   "source": [
    "\n",
    "# Exemple de données d'entrée (remplir selon les valeurs réelles)\n",
    "input_data = [25, 'F', 14, 12, 8, 33.598128973340515, -7.664624676533552]  # Exemple pour Vict Age, Vict Sex, heure, jour, mois, LAT, LON, LOCATION\n",
    "\n",
    "# Effectuer la prédiction\n",
    "prediction = predict_danger(model, scaler, label_encoder, input_data)\n",
    "\n",
    "# Afficher le résultat\n",
    "print(\"Le niveau de danger est : \", \"DANGEREUX\" if prediction == 1 else \"SÛR\")"
   ]
  }
 ],
 "metadata": {
  "kernelspec": {
   "display_name": "Python 3",
   "language": "python",
   "name": "python3"
  },
  "language_info": {
   "codemirror_mode": {
    "name": "ipython",
    "version": 3
   },
   "file_extension": ".py",
   "mimetype": "text/x-python",
   "name": "python",
   "nbconvert_exporter": "python",
   "pygments_lexer": "ipython3",
   "version": "3.12.6"
  }
 },
 "nbformat": 4,
 "nbformat_minor": 5
}
