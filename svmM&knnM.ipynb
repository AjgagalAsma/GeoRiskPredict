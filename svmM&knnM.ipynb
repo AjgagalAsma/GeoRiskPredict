{
 "cells": [
  {
   "cell_type": "code",
   "execution_count": 1,
   "id": "b173f6bc",
   "metadata": {},
   "outputs": [
    {
     "name": "stderr",
     "output_type": "stream",
     "text": [
      "C:\\Users\\info tech\\AppData\\Local\\Temp\\ipykernel_16784\\3084613574.py:17: SettingWithCopyWarning: \n",
      "A value is trying to be set on a copy of a slice from a DataFrame.\n",
      "Try using .loc[row_indexer,col_indexer] = value instead\n",
      "\n",
      "See the caveats in the documentation: https://pandas.pydata.org/pandas-docs/stable/user_guide/indexing.html#returning-a-view-versus-a-copy\n",
      "  X['Vict Sex'] = X['Vict Sex'].map({'M': 1, 'F': 0})\n"
     ]
    }
   ],
   "source": [
    "import pandas as pd\n",
    "from sklearn.model_selection import train_test_split\n",
    "\n",
    "# Charger ton dataset\n",
    "df = pd.read_csv(\"geo_safety_data.csv\")\n",
    "\n",
    "# Supprimer les colonnes inutiles\n",
    "df.drop(columns=['jour', 'mois', 'LOCATION'], inplace=True)\n",
    "\n",
    "# Filtrer les lignes avec une heure valide\n",
    "df = df[(df['heure'] >= 0) & (df['heure'] <= 23)]\n",
    "\n",
    "X = df[['Vict Age', 'Vict Sex', 'heure', 'LAT', 'LON']]\n",
    "y = df['danger']\n",
    "\n",
    "# Encoder la variable 'Vict Sex' en numérique\n",
    "X['Vict Sex'] = X['Vict Sex'].map({'M': 1, 'F': 0})\n",
    "\n",
    "X_train, X_test, y_train, y_test = train_test_split(X, y, test_size=0.2, random_state=42)\n"
   ]
  },
  {
   "cell_type": "code",
   "execution_count": 2,
   "id": "0f4bee60",
   "metadata": {},
   "outputs": [
    {
     "name": "stdout",
     "output_type": "stream",
     "text": [
      "Accuracy (SVM): 0.6441441441441441\n"
     ]
    }
   ],
   "source": [
    "from sklearn.svm import SVC\n",
    "from sklearn.metrics import accuracy_score\n",
    "\n",
    "# Initialiser le modèle SVM\n",
    "model_svm = SVC(kernel='linear')  # 'linear' pour une séparation linéaire, tu peux aussi essayer 'rbf' pour une séparation non linéaire\n",
    "\n",
    "# Entraîner le modèle\n",
    "model_svm.fit(X_train, y_train)\n",
    "\n",
    "# Faire des prédictions\n",
    "y_pred_svm = model_svm.predict(X_test)\n",
    "\n",
    "# Évaluer le modèle\n",
    "print(\"Accuracy (SVM):\", accuracy_score(y_test, y_pred_svm))\n"
   ]
  },
  {
   "cell_type": "code",
   "execution_count": 3,
   "id": "9763f779",
   "metadata": {},
   "outputs": [
    {
     "name": "stdout",
     "output_type": "stream",
     "text": [
      "Accuracy (KNN): 0.8378378378378378\n"
     ]
    }
   ],
   "source": [
    "from sklearn.neighbors import KNeighborsClassifier\n",
    "from sklearn.metrics import accuracy_score\n",
    "\n",
    "# Initialiser le modèle KNN\n",
    "model_knn = KNeighborsClassifier(n_neighbors=5)  # Choisir un nombre de voisins (k)\n",
    "\n",
    "# Entraîner le modèle\n",
    "model_knn.fit(X_train, y_train)\n",
    "\n",
    "# Faire des prédictions\n",
    "y_pred_knn = model_knn.predict(X_test)\n",
    "\n",
    "# Évaluer le modèle\n",
    "print(\"Accuracy (KNN):\", accuracy_score(y_test, y_pred_knn))\n"
   ]
  }
 ],
 "metadata": {
  "kernelspec": {
   "display_name": "Python 3",
   "language": "python",
   "name": "python3"
  },
  "language_info": {
   "codemirror_mode": {
    "name": "ipython",
    "version": 3
   },
   "file_extension": ".py",
   "mimetype": "text/x-python",
   "name": "python",
   "nbconvert_exporter": "python",
   "pygments_lexer": "ipython3",
   "version": "3.12.6"
  }
 },
 "nbformat": 4,
 "nbformat_minor": 5
}
