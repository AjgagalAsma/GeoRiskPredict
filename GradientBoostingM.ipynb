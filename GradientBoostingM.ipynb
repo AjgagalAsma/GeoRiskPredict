{
 "cells": [
  {
   "cell_type": "code",
   "execution_count": 1,
   "id": "7ac8c89d",
   "metadata": {},
   "outputs": [
    {
     "name": "stderr",
     "output_type": "stream",
     "text": [
      "C:\\Users\\info tech\\AppData\\Local\\Temp\\ipykernel_4452\\3084613574.py:17: SettingWithCopyWarning: \n",
      "A value is trying to be set on a copy of a slice from a DataFrame.\n",
      "Try using .loc[row_indexer,col_indexer] = value instead\n",
      "\n",
      "See the caveats in the documentation: https://pandas.pydata.org/pandas-docs/stable/user_guide/indexing.html#returning-a-view-versus-a-copy\n",
      "  X['Vict Sex'] = X['Vict Sex'].map({'M': 1, 'F': 0})\n"
     ]
    }
   ],
   "source": [
    "import pandas as pd\n",
    "from sklearn.model_selection import train_test_split\n",
    "\n",
    "# Charger ton dataset\n",
    "df = pd.read_csv(\"geo_safety_data.csv\")\n",
    "\n",
    "# Supprimer les colonnes inutiles\n",
    "df.drop(columns=['jour', 'mois', 'LOCATION'], inplace=True)\n",
    "\n",
    "# Filtrer les lignes avec une heure valide\n",
    "df = df[(df['heure'] >= 0) & (df['heure'] <= 23)]\n",
    "\n",
    "X = df[['Vict Age', 'Vict Sex', 'heure', 'LAT', 'LON']]\n",
    "y = df['danger']\n",
    "\n",
    "# Encoder la variable 'Vict Sex' en numérique\n",
    "X['Vict Sex'] = X['Vict Sex'].map({'M': 1, 'F': 0})\n",
    "\n",
    "X_train, X_test, y_train, y_test = train_test_split(X, y, test_size=0.2, random_state=42)\n"
   ]
  },
  {
   "cell_type": "code",
   "execution_count": 2,
   "id": "da558e62",
   "metadata": {},
   "outputs": [
    {
     "name": "stdout",
     "output_type": "stream",
     "text": [
      "Accuracy (Gradient Boosting): 0.9819819819819819\n"
     ]
    }
   ],
   "source": [
    "from sklearn.ensemble import GradientBoostingClassifier\n",
    "from sklearn.metrics import accuracy_score\n",
    "\n",
    "# Initialiser le modèle Gradient Boosting\n",
    "model_gb = GradientBoostingClassifier(n_estimators=100, learning_rate=0.1, max_depth=3)\n",
    "\n",
    "# Entraîner le modèle\n",
    "model_gb.fit(X_train, y_train)\n",
    "\n",
    "# Faire des prédictions\n",
    "y_pred_gb = model_gb.predict(X_test)\n",
    "\n",
    "# Évaluer le modèle\n",
    "print(\"Accuracy (Gradient Boosting):\", accuracy_score(y_test, y_pred_gb))\n"
   ]
  },
  {
   "cell_type": "code",
   "execution_count": 9,
   "id": "e1dc7c63",
   "metadata": {},
   "outputs": [
    {
     "name": "stdout",
     "output_type": "stream",
     "text": [
      "Prédiction (0 = Non dangereux, 1 = Dangereux) : 1\n"
     ]
    }
   ],
   "source": [
    "import pandas as pd\n",
    "\n",
    "# Nouvelles données (25, 0(F), 23, 32.32329981047794, -9.260393664963635)\n",
    "new_data = pd.DataFrame({\n",
    "    'Vict Age': [40],\n",
    "    'Vict Sex': [0],  # 0 pour femme, 1 pour homme (en fonction de ton encodage)\n",
    "    'heure': [0],\n",
    "    'LAT': [30.41544822365992],\n",
    "    'LON': [-9.559128977940917]\n",
    "})\n",
    "\n",
    "# Prédire avec le modèle Random Forest\n",
    "prediction = model_gb.predict(new_data)\n",
    "\n",
    "# Afficher la prédiction\n",
    "print(\"Prédiction (0 = Non dangereux, 1 = Dangereux) :\", prediction[0])\n"
   ]
  }
 ],
 "metadata": {
  "kernelspec": {
   "display_name": "Python 3",
   "language": "python",
   "name": "python3"
  },
  "language_info": {
   "codemirror_mode": {
    "name": "ipython",
    "version": 3
   },
   "file_extension": ".py",
   "mimetype": "text/x-python",
   "name": "python",
   "nbconvert_exporter": "python",
   "pygments_lexer": "ipython3",
   "version": "3.12.6"
  }
 },
 "nbformat": 4,
 "nbformat_minor": 5
}
